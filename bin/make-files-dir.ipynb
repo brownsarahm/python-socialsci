{
 "cells": [
  {
   "cell_type": "markdown",
   "metadata": {},
   "source": [
    "# Make student repo\n",
    "\n",
    "This can eventually be changed to a script, but this format is easier to develop it in.  "
   ]
  },
  {
   "cell_type": "code",
   "execution_count": 1,
   "metadata": {},
   "outputs": [],
   "source": [
    "import os\n",
    "import shutil\n",
    "import sys\n",
    "import frontmatter"
   ]
  },
  {
   "cell_type": "code",
   "execution_count": 2,
   "metadata": {},
   "outputs": [],
   "source": [
    "# create all paths with os.path.join so that they work in windows and linux\n",
    "top_ex_dir = os.path.join('..','_exercises')\n",
    "data_source = os.path.join('..', 'data')\n",
    "# inst_resources = os.path.join()"
   ]
  },
  {
   "cell_type": "code",
   "execution_count": 3,
   "metadata": {},
   "outputs": [],
   "source": [
    "learner_dir = os.path.join ('..','..','python-socialsci-files')\n",
    "learner_code_dir = os.path.join(learner_dir,'code')\n",
    "learner_data_dir = os.path.join(learner_dir,'data')\n",
    "\n",
    "# make the folders to save the data and code in\n",
    "os.mkdir(learner_dir)\n",
    "os.mkdir(learner_code_dir)\n",
    "# os.mkdir(learner_data_dir)"
   ]
  },
  {
   "cell_type": "code",
   "execution_count": 4,
   "metadata": {},
   "outputs": [
    {
     "name": "stdout",
     "output_type": "stream",
     "text": [
      "2018-03-22-NSBE\n",
      "demo\n",
      "hpc-novice\n",
      "lesson-example\n",
      "nsbe_template.ipynb\n",
      "old_ex.md\n",
      "openrefine-socialsci\n",
      "openrefine-socialsci-files\n",
      "python-ecology-files\n",
      "python-ecology-lesson\n",
      "python-ecology-mini\n",
      "python-novice-gapminder\n",
      "python-novice-gapminder-files\n",
      "python-novice-inflammation\n",
      "python-socialsci\n",
      "python-socialsci-files\n",
      "sandbox\n",
      "styles\n",
      "test-carpentry-lesson\n"
     ]
    }
   ],
   "source": [
    "%%bash\n",
    "cd ../../\n",
    "ls\n"
   ]
  },
  {
   "cell_type": "code",
   "execution_count": 5,
   "metadata": {},
   "outputs": [
    {
     "name": "stdout",
     "output_type": "stream",
     "text": [
      "code\n"
     ]
    }
   ],
   "source": [
    "%%bash\n",
    "cd ../../python-socialsci-files/\n",
    "ls"
   ]
  },
  {
   "cell_type": "code",
   "execution_count": 19,
   "metadata": {},
   "outputs": [
    {
     "name": "stdout",
     "output_type": "stream",
     "text": [
      "for\n",
      "no hint\n",
      "join\n",
      "no hint\n",
      "dfinfo\n",
      "no hint\n",
      "index\n",
      "no hint\n",
      "cuboid\n",
      "no hint\n",
      "bool\n",
      "no hint\n",
      "te\n",
      "no hint\n",
      "scattersize\n",
      "no hint\n",
      "print\n",
      "no hint\n",
      "datemath\n",
      "no hint\n",
      "headtail\n",
      "no hint\n",
      "while\n",
      "no hint\n",
      "groupby\n",
      "no hint\n",
      "notebook\n",
      "no hint\n",
      "roof-wall\n",
      "no hint\n",
      "counts\n",
      "no hint\n",
      "index\n",
      "no hint\n",
      "ifoperator\n",
      "no hint\n",
      "datedata\n",
      "no hint\n",
      "dict\n",
      "no hint\n"
     ]
    }
   ],
   "source": [
    "ex_text = {}\n",
    "for ex_file in os.listdir(top_ex_dir):\n",
    "    \n",
    "    ex_name = ex_file[6:-3]\n",
    "    print(ex_name)\n",
    "    post = frontmatter.load(os.path.join(top_ex_dir,ex_file))\n",
    "    ex_text[ex_name] = post.content\n",
    "    append_text = ''\n",
    "    \n",
    "    # if there's a hint, process it\n",
    "    if 'hint' in post.keys():\n",
    "        print('processing hint')\n",
    "        # make file name\n",
    "        hint_file = os.path.join(learner_dir,'code', ex_name +'-hint' +'.py')\n",
    "        # write to file\n",
    "        with open(hint_file,'w') as hint_out:\n",
    "            hint_out.write(post.hint)\n",
    "            \n",
    "        # make note for learner that there's a hinit\n",
    "        append_text.append('\\n# hint available \\n #%load ' + ex_name +'-hint')\n",
    "        \n",
    "    else:\n",
    "        print('no hint')\n",
    "    \n",
    "    \n",
    "    # remove markup for code excerpts\n",
    "    ex_text[ex_name] = ex_text[ex_name].replace('~~~\\n{: .language-python}','# break cell here')\n",
    "    ex_text[ex_name] = ex_text[ex_name].replace('~~~\\n','# code\\n')\n",
    "    \n",
    "    \n",
    "    ex_file_out = os.path.join(learner_dir,'code', ex_name +'.py')\n",
    "    \n",
    "    with open(ex_file_out,'w') as ex_out:\n",
    "        ex_out.write(ex_text[ex_name] + append_text)\n",
    "        \n",
    "    \n",
    "            \n",
    "        \n",
    "\n",
    "    # replace ~~~ with ''\n",
    "    "
   ]
  },
  {
   "cell_type": "code",
   "execution_count": 16,
   "metadata": {},
   "outputs": [
    {
     "data": {
      "text/plain": [
       "\"Try to predict what will print for each of the following (use comments to make notes).\\nThen run the code and summarize\\nyour findings about what how to represent boolean values and how other values cast to\\nboolean type in either a markdown cell or a comment.\\n\\n\\nbool_val1 = 'TRUE'\\nprint(type(bool_val1))\\n\\nbool_val2 = 'FALSE'\\nprint(bool(bool_val2))\\n\\nbool_val3 = 1\\nprint(bool(bool_val3))\\n\\nbool_val4 = 0\\nprint(bool(bool_val4))\\n\\nbool_val5 = -1\\nprint(bool(bool_val5))\\n\\nbool_val6 = -1\\nprint(bool(bool_val6))\\n\\n{: .language-python}\""
      ]
     },
     "execution_count": 16,
     "metadata": {},
     "output_type": "execute_result"
    }
   ],
   "source": [
    "ex_text['bool']"
   ]
  },
  {
   "cell_type": "code",
   "execution_count": 8,
   "metadata": {},
   "outputs": [
    {
     "data": {
      "text/plain": [
       "'../../python-socialsci-files/data'"
      ]
     },
     "execution_count": 8,
     "metadata": {},
     "output_type": "execute_result"
    }
   ],
   "source": [
    "# for data_file in os.listdir(data_source):\n",
    "shutil.copy(os.path.join('..','LICENSE.md'),learner_dir)\n",
    "shutil.copytree(data_source,learner_data_dir)"
   ]
  },
  {
   "cell_type": "code",
   "execution_count": 9,
   "metadata": {},
   "outputs": [
    {
     "name": "stdout",
     "output_type": "stream",
     "text": [
      "aio.md\n",
      "assets\n",
      "AUTHORS\n",
      "bin\n",
      "CITATION\n",
      "code\n",
      "CONDUCT.md\n",
      "_config.yml\n",
      "CONTRIBUTING.md\n",
      "data\n",
      "_episodes\n",
      "_episodes_rmd\n",
      "_exercises\n",
      "_extras\n",
      "favicon-dc.ico\n",
      "favicon-lc.ico\n",
      "favicon-swc.ico\n",
      "fig\n",
      "files\n",
      "_includes\n",
      "index.md\n",
      "_layouts\n",
      "LICENSE.md\n",
      "Makefile\n",
      "README.md\n",
      "reference.md\n",
      "setup.md\n",
      "_site\n"
     ]
    }
   ],
   "source": [
    "%%bash\n",
    "cd ..\n",
    "ls"
   ]
  },
  {
   "cell_type": "code",
   "execution_count": 10,
   "metadata": {},
   "outputs": [
    {
     "name": "stdout",
     "output_type": "stream",
     "text": [
      "bool.py\n",
      "counts.py\n",
      "cuboid.py\n",
      "datedata.py\n",
      "datemath.py\n",
      "dfinfo.py\n",
      "dict.py\n",
      "for.py\n",
      "groupby.py\n",
      "headtail.py\n",
      "ifoperator.py\n",
      "index.py\n",
      "join.py\n",
      "notebook.py\n",
      "print.py\n",
      "roof-wall.py\n",
      "scattersize.py\n",
      "te.py\n",
      "while.py\n",
      "Newspapers.csv\n",
      "Newspapers.txt\n",
      "Q1.txt\n",
      "Q6.txt\n",
      "Q7.txt\n",
      "SAFI_crops.csv\n",
      "SAFI_grass_roof_burntbricks.csv\n",
      "SAFI_grass_roof.csv\n",
      "SAFI_grass_roof_muddaub.csv\n",
      "SAFI.json\n",
      "SAFI_results_anon.csv\n",
      "SAFI_results.csv\n",
      "SN7577i_aa.csv\n",
      "SN7577i_a.csv\n",
      "SN7577i_bb.csv\n",
      "SN7577i_b.csv\n",
      "SN7577i_c.csv\n",
      "SN7577i_d.csv\n",
      "SN7577.sqlite\n",
      "SN7577.tab\n"
     ]
    }
   ],
   "source": [
    "%%bash\n",
    "cd ../../python-socialsci-files/code\n",
    "ls\n",
    "cd ../data\n",
    "ls"
   ]
  },
  {
   "cell_type": "markdown",
   "metadata": {},
   "source": [
    "Cleanup from running to be able to test "
   ]
  },
  {
   "cell_type": "code",
   "execution_count": 11,
   "metadata": {},
   "outputs": [],
   "source": [
    "# %%bash\n",
    "# cd ../../\n",
    "# rm -rf python-socialsci-files    \n",
    "# ls"
   ]
  },
  {
   "cell_type": "code",
   "execution_count": null,
   "metadata": {},
   "outputs": [],
   "source": []
  }
 ],
 "metadata": {
  "kernelspec": {
   "display_name": "Python 3",
   "language": "python",
   "name": "python3"
  },
  "language_info": {
   "codemirror_mode": {
    "name": "ipython",
    "version": 3
   },
   "file_extension": ".py",
   "mimetype": "text/x-python",
   "name": "python",
   "nbconvert_exporter": "python",
   "pygments_lexer": "ipython3",
   "version": "3.6.4"
  }
 },
 "nbformat": 4,
 "nbformat_minor": 2
}
