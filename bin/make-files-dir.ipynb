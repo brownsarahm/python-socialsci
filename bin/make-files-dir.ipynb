{
 "cells": [
  {
   "cell_type": "markdown",
   "metadata": {},
   "source": [
    "# Make student repo\n",
    "\n",
    "This can eventually be changed to a script, but this format is easier to develop it in.  "
   ]
  },
  {
   "cell_type": "code",
   "execution_count": 1,
   "metadata": {},
   "outputs": [],
   "source": [
    "import os\n",
    "import shutil\n",
    "import sys\n",
    "import frontmatter"
   ]
  },
  {
   "cell_type": "code",
   "execution_count": 2,
   "metadata": {},
   "outputs": [],
   "source": [
    "# create all paths with os.path.join so that they work in windows and linux\n",
    "top_ex_dir = os.path.join('..','_exercises')\n",
    "data_source = os.path.join('..', 'data')\n",
    "# inst_resources = os.path.join()"
   ]
  },
  {
   "cell_type": "code",
   "execution_count": 3,
   "metadata": {},
   "outputs": [
    {
     "ename": "FileExistsError",
     "evalue": "[Errno 17] File exists: '../../python-socialsci-files'",
     "output_type": "error",
     "traceback": [
      "\u001b[0;31m---------------------------------------------------------------------------\u001b[0m",
      "\u001b[0;31mFileExistsError\u001b[0m                           Traceback (most recent call last)",
      "\u001b[0;32m<ipython-input-3-8c9456ef4ca7>\u001b[0m in \u001b[0;36m<module>\u001b[0;34m()\u001b[0m\n\u001b[1;32m      4\u001b[0m \u001b[0;34m\u001b[0m\u001b[0m\n\u001b[1;32m      5\u001b[0m \u001b[0;31m# make the folders to save the data and code in\u001b[0m\u001b[0;34m\u001b[0m\u001b[0;34m\u001b[0m\u001b[0m\n\u001b[0;32m----> 6\u001b[0;31m \u001b[0mos\u001b[0m\u001b[0;34m.\u001b[0m\u001b[0mmkdir\u001b[0m\u001b[0;34m(\u001b[0m\u001b[0mlearner_dir\u001b[0m\u001b[0;34m)\u001b[0m\u001b[0;34m\u001b[0m\u001b[0m\n\u001b[0m\u001b[1;32m      7\u001b[0m \u001b[0mos\u001b[0m\u001b[0;34m.\u001b[0m\u001b[0mmkdir\u001b[0m\u001b[0;34m(\u001b[0m\u001b[0mlearner_code_dir\u001b[0m\u001b[0;34m)\u001b[0m\u001b[0;34m\u001b[0m\u001b[0m\n\u001b[1;32m      8\u001b[0m \u001b[0;31m# os.mkdir(learner_data_dir)\u001b[0m\u001b[0;34m\u001b[0m\u001b[0;34m\u001b[0m\u001b[0m\n",
      "\u001b[0;31mFileExistsError\u001b[0m: [Errno 17] File exists: '../../python-socialsci-files'"
     ]
    }
   ],
   "source": [
    "learner_dir = os.path.join ('..','..','python-socialsci-files')\n",
    "learner_code_dir = os.path.join(learner_dir,'code')\n",
    "learner_data_dir = os.path.join(learner_dir,'data')\n",
    "\n",
    "# make the folders to save the data and code in\n",
    "os.mkdir(learner_dir)\n",
    "os.mkdir(learner_code_dir)\n",
    "# os.mkdir(learner_data_dir)"
   ]
  },
  {
   "cell_type": "code",
   "execution_count": null,
   "metadata": {},
   "outputs": [],
   "source": [
    "%%bash\n",
    "cd ../../\n",
    "ls\n"
   ]
  },
  {
   "cell_type": "code",
   "execution_count": null,
   "metadata": {},
   "outputs": [],
   "source": [
    "%%bash\n",
    "cd ../../python-socialsci-files/\n",
    "ls"
   ]
  },
  {
   "cell_type": "code",
   "execution_count": 4,
   "metadata": {},
   "outputs": [
    {
     "name": "stdout",
     "output_type": "stream",
     "text": [
      "for\n",
      "no hint\n",
      "join\n",
      "no hint\n",
      "dfinfo\n",
      "no hint\n",
      "cuboid\n",
      "no hint\n",
      "bool\n",
      "no hint\n",
      "te\n",
      "no hint\n",
      "scattersize\n",
      "no hint\n",
      "print\n",
      "no hint\n",
      "datemath\n",
      "no hint\n",
      "headtail\n",
      "no hint\n",
      "while\n",
      "no hint\n",
      "groupby\n",
      "no hint\n",
      "notebook\n",
      "no hint\n",
      "roof-wall\n",
      "no hint\n",
      "counts\n",
      "no hint\n",
      "index\n",
      "no hint\n",
      "ifoperator\n",
      "no hint\n",
      "datedata\n",
      "no hint\n",
      "pdindex\n",
      "no hint\n",
      "dict\n",
      "no hint\n"
     ]
    }
   ],
   "source": [
    "ex_text = {}\n",
    "for ex_file in os.listdir(top_ex_dir):\n",
    "    \n",
    "    ex_name = ex_file[6:-3]\n",
    "    print(ex_name)\n",
    "    post = frontmatter.load(os.path.join(top_ex_dir,ex_file))\n",
    "    ex_text[ex_name] = post.content\n",
    "    append_text = ''\n",
    "    \n",
    "    # if there's a hint, process it\n",
    "    if 'hint' in post.keys():\n",
    "        print('processing hint')\n",
    "        # make file name\n",
    "        hint_file = os.path.join(learner_dir,'code', ex_name +'-hint' +'.py')\n",
    "        # write to file\n",
    "        with open(hint_file,'w') as hint_out:\n",
    "            hint_out.write(post.hint)\n",
    "            \n",
    "        # make note for learner that there's a hinit\n",
    "        append_text.append('\\n# hint available \\n #%load ' + ex_name +'-hint')\n",
    "        \n",
    "    else:\n",
    "        print('no hint')\n",
    "    \n",
    "    \n",
    "    # remove markup for code excerpts\n",
    "    ex_text[ex_name] = ex_text[ex_name].replace('~~~\\n{: .language-python}','# break cell here')\n",
    "    ex_text[ex_name] = ex_text[ex_name].replace('~~~\\n','# code\\n')\n",
    "    \n",
    "    \n",
    "    ex_file_out = os.path.join(learner_dir,'code', ex_name +'.py')\n",
    "    \n",
    "    with open(ex_file_out,'w') as ex_out:\n",
    "        ex_out.write(ex_text[ex_name] + append_text)\n",
    "        \n",
    "    \n",
    "            \n",
    "        \n",
    "\n",
    "    # replace ~~~ with ''\n",
    "    "
   ]
  },
  {
   "cell_type": "code",
   "execution_count": null,
   "metadata": {},
   "outputs": [],
   "source": [
    "ex_text['bool']"
   ]
  },
  {
   "cell_type": "code",
   "execution_count": null,
   "metadata": {},
   "outputs": [],
   "source": [
    "# for data_file in os.listdir(data_source):\n",
    "shutil.copy(os.path.join('..','LICENSE.md'),learner_dir)\n",
    "shutil.copytree(data_source,learner_data_dir)"
   ]
  },
  {
   "cell_type": "code",
   "execution_count": null,
   "metadata": {},
   "outputs": [],
   "source": [
    "%%bash\n",
    "cd ..\n",
    "ls"
   ]
  },
  {
   "cell_type": "code",
   "execution_count": null,
   "metadata": {},
   "outputs": [],
   "source": [
    "%%bash\n",
    "cd ../../python-socialsci-files/code\n",
    "ls\n",
    "cd ../data\n",
    "ls"
   ]
  },
  {
   "cell_type": "markdown",
   "metadata": {},
   "source": [
    "Cleanup from running to be able to test "
   ]
  },
  {
   "cell_type": "code",
   "execution_count": null,
   "metadata": {},
   "outputs": [],
   "source": [
    "# %%bash\n",
    "# cd ../../\n",
    "# rm -rf python-socialsci-files    \n",
    "# ls"
   ]
  },
  {
   "cell_type": "code",
   "execution_count": null,
   "metadata": {},
   "outputs": [],
   "source": []
  }
 ],
 "metadata": {
  "kernelspec": {
   "display_name": "Python 3",
   "language": "python",
   "name": "python3"
  },
  "language_info": {
   "codemirror_mode": {
    "name": "ipython",
    "version": 3
   },
   "file_extension": ".py",
   "mimetype": "text/x-python",
   "name": "python",
   "nbconvert_exporter": "python",
   "pygments_lexer": "ipython3",
   "version": "3.6.4"
  }
 },
 "nbformat": 4,
 "nbformat_minor": 2
}
