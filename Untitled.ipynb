{
 "cells": [
  {
   "cell_type": "code",
   "execution_count": 1,
   "metadata": {},
   "outputs": [],
   "source": [
    "import pandas as pd"
   ]
  },
  {
   "cell_type": "code",
   "execution_count": 2,
   "metadata": {},
   "outputs": [
    {
     "name": "stdout",
     "output_type": "stream",
     "text": [
      "Newspapers.csv\n",
      "Newspapers.txt\n",
      "Q1.txt\n",
      "Q6.txt\n",
      "Q7.txt\n",
      "SAFI_crops.csv\n",
      "SAFI_grass_roof_burntbricks.csv\n",
      "SAFI_grass_roof.csv\n",
      "SAFI_grass_roof_muddaub.csv\n",
      "SAFI.json\n",
      "SAFI_results_anon.csv\n",
      "SAFI_results.csv\n",
      "SN7577i_aa.csv\n",
      "SN7577i_a.csv\n",
      "SN7577i_bb.csv\n",
      "SN7577i_b.csv\n",
      "SN7577i_c.csv\n",
      "SN7577i_d.csv\n",
      "SN7577.sqlite\n",
      "SN7577.tab\n"
     ]
    }
   ],
   "source": [
    "%%bash\n",
    "cd data/\n",
    "ls"
   ]
  },
  {
   "cell_type": "code",
   "execution_count": 3,
   "metadata": {},
   "outputs": [],
   "source": [
    "df = pd.read_csv('data/SAFI_results.csv')"
   ]
  },
  {
   "cell_type": "code",
   "execution_count": 6,
   "metadata": {},
   "outputs": [
    {
     "data": {
      "text/plain": [
       "Index(['Column1', 'A01_interview_date', 'A03_quest_no', 'A04_start', 'A05_end',\n",
       "       'A06_province', 'A07_district', 'A08_ward', 'A09_village',\n",
       "       'A11_years_farm', 'A12_agr_assoc', 'B11_remittance_money',\n",
       "       'B16_years_liv', 'B17_parents_liv', 'B18_sp_parents_liv',\n",
       "       'B19_grand_liv', 'B20_sp_grand_liv', 'B_no_membrs',\n",
       "       'C01_respondent_roof_type', 'C02_respondent_wall_type',\n",
       "       'C02_respondent_wall_type_other', 'C03_respondent_floor_type',\n",
       "       'C04_window_type', 'C05_buildings_in_compound', 'C06_rooms',\n",
       "       'C07_other_buildings', 'D_plots_count', 'E01_water_use',\n",
       "       'E17_no_enough_water', 'E19_period_use', 'E20_exper_other',\n",
       "       'E21_other_meth', 'E23_memb_assoc', 'E24_resp_assoc', 'E25_fees_water',\n",
       "       'E26_affect_conflicts', 'E_no_group_count', 'E_yes_group_count',\n",
       "       'F04_need_money', 'F05_money_source_other', 'F06_crops_contr',\n",
       "       'F08_emply_lab', 'F09_du_labour', 'F10_liv_owned_other', 'F12_poultry',\n",
       "       'F13_du_look_aftr_cows', 'F_liv_count', 'G01_no_meals',\n",
       "       '_members_count', '_note', 'gps:Accuracy', 'gps:Altitude',\n",
       "       'gps:Latitude', 'gps:Longitude', 'instanceID'],\n",
       "      dtype='object')"
      ]
     },
     "execution_count": 6,
     "metadata": {},
     "output_type": "execute_result"
    }
   ],
   "source": [
    "df.columns"
   ]
  },
  {
   "cell_type": "code",
   "execution_count": 10,
   "metadata": {},
   "outputs": [],
   "source": [
    "from datetime import datetime"
   ]
  },
  {
   "cell_type": "code",
   "execution_count": 12,
   "metadata": {},
   "outputs": [
    {
     "data": {
      "text/plain": [
       "datetime.datetime(2018, 6, 9, 9, 48, 41, 195591)"
      ]
     },
     "execution_count": 12,
     "metadata": {},
     "output_type": "execute_result"
    }
   ],
   "source": [
    "today = datetime.today()\n",
    "today"
   ]
  },
  {
   "cell_type": "code",
   "execution_count": 13,
   "metadata": {},
   "outputs": [],
   "source": [
    "format = \"%a %b %d %H:%M:%S %Y\"\n",
    "\n",
    "s = today.strftime(format)"
   ]
  },
  {
   "cell_type": "code",
   "execution_count": 14,
   "metadata": {},
   "outputs": [
    {
     "data": {
      "text/plain": [
       "'Sat Jun 09 09:48:41 2018'"
      ]
     },
     "execution_count": 14,
     "metadata": {},
     "output_type": "execute_result"
    }
   ],
   "source": [
    "s"
   ]
  },
  {
   "cell_type": "code",
   "execution_count": 16,
   "metadata": {},
   "outputs": [
    {
     "name": "stdout",
     "output_type": "stream",
     "text": [
      "<class 'str'> 2017-03-23T09:49:57.000Z\n",
      "<class 'str'> 2017-04-02T17:29:08.000Z\n"
     ]
    }
   ],
   "source": [
    "format = \"%Y-%m-%dT%H:%M:%S.%fZ\"\n",
    "f = open('data/SAFI_results.csv', 'r')\n",
    "\n",
    "#skip the header line\n",
    "line = f.readline()\n",
    "\n",
    "# next line has data\n",
    "line = f.readline()\n",
    "\n",
    "strdate_start = line.split(',')[3]  # A04_start\n",
    "strdate_end = line.split(',')[4]    # A05_end\n",
    "\n",
    "print(type(strdate_start), strdate_start)\n",
    "print(type(strdate_end), strdate_end)"
   ]
  },
  {
   "cell_type": "code",
   "execution_count": 20,
   "metadata": {},
   "outputs": [],
   "source": [
    "date_start = datetime(1988,1,6)"
   ]
  },
  {
   "cell_type": "code",
   "execution_count": 21,
   "metadata": {},
   "outputs": [],
   "source": [
    "date_end = datetime.today()"
   ]
  },
  {
   "cell_type": "code",
   "execution_count": 23,
   "metadata": {},
   "outputs": [
    {
     "name": "stdout",
     "output_type": "stream",
     "text": [
      "11112 days, 9:52:05.493023\n"
     ]
    }
   ],
   "source": [
    "print(date_end - date_start)"
   ]
  },
  {
   "cell_type": "code",
   "execution_count": 24,
   "metadata": {},
   "outputs": [
    {
     "name": "stdout",
     "output_type": "stream",
     "text": [
      "-11113 days, 14:07:54.506977\n"
     ]
    }
   ],
   "source": [
    "print(date_start- date_end)"
   ]
  },
  {
   "cell_type": "code",
   "execution_count": 25,
   "metadata": {},
   "outputs": [],
   "source": [
    "df_SN7577 = pd.read_csv(\"data/SN7577.tab\", sep='\\t')"
   ]
  },
  {
   "cell_type": "code",
   "execution_count": 38,
   "metadata": {},
   "outputs": [
    {
     "name": "stdout",
     "output_type": "stream",
     "text": [
      "Q1 int64\n",
      "Q2 int64\n",
      "Q3 int64\n",
      "Q4 int64\n",
      "Q5ai int64\n",
      "Q5aii int64\n",
      "Q5aiii int64\n",
      "Q5aiv int64\n",
      "Q5av int64\n",
      "Q5avi int64\n",
      "Q5avii int64\n",
      "Q5aviii int64\n",
      "Q5aix int64\n",
      "Q5ax int64\n",
      "Q5axi int64\n",
      "Q5axii int64\n",
      "Q5axiii int64\n",
      "Q5axiv int64\n",
      "Q5axv int64\n",
      "Q5bi int64\n",
      "Q5bii int64\n",
      "Q5biii int64\n",
      "Q5biv int64\n",
      "Q5bv int64\n",
      "Q5bvi int64\n",
      "Q5bvii int64\n",
      "Q5bviii int64\n",
      "Q5bix int64\n",
      "Q5bx int64\n",
      "Q5bxi int64\n",
      "Q5bxii int64\n",
      "Q5bxiii int64\n",
      "Q5bxiv int64\n",
      "Q5bxv int64\n",
      "Q6 int64\n",
      "Q7a int64\n",
      "Q7b int64\n",
      "Q8 int64\n",
      "Q9 int64\n",
      "Q10a int64\n",
      "Q10b int64\n",
      "Q10c int64\n",
      "Q10d int64\n",
      "Q11a int64\n",
      "Q11b int64\n",
      "Q12a int64\n",
      "Q12b int64\n",
      "Q13i int64\n",
      "Q13ii int64\n",
      "Q13iii int64\n",
      "Q13iv int64\n",
      "Q14 int64\n",
      "Q15 int64\n",
      "Q16a int64\n",
      "Q16b int64\n",
      "Q16c int64\n",
      "Q16d int64\n",
      "Q16e int64\n",
      "Q16f int64\n",
      "Q16g int64\n",
      "Q16h int64\n",
      "Q17a int64\n",
      "Q17b int64\n",
      "Q17c int64\n",
      "Q17d int64\n",
      "Q17e int64\n",
      "Q17f int64\n",
      "Q17g int64\n",
      "Q18ai int64\n",
      "Q18aii int64\n",
      "Q18aiii int64\n",
      "Q18aiv int64\n",
      "Q18av int64\n",
      "Q18avi int64\n",
      "Q18avii int64\n",
      "Q18aviii int64\n",
      "Q18aix int64\n",
      "Q18bi int64\n",
      "Q18bii int64\n",
      "Q18biii int64\n",
      "Q18biv int64\n",
      "Q18bv int64\n",
      "Q18bvi int64\n",
      "Q18bvii int64\n",
      "Q18bviii int64\n",
      "Q18bix int64\n",
      "Q19a int64\n",
      "Q19b int64\n",
      "Q19c int64\n",
      "Q19d int64\n",
      "access1 int64\n",
      "access2 int64\n",
      "access3 int64\n",
      "access4 int64\n",
      "access5 int64\n",
      "access6 int64\n",
      "access7 int64\n",
      "web1 int64\n",
      "web2 int64\n",
      "web3 int64\n",
      "web4 int64\n",
      "web5 int64\n",
      "web6 int64\n",
      "web7 int64\n",
      "web8 int64\n",
      "web9 int64\n",
      "web10 int64\n",
      "web11 int64\n",
      "web12 int64\n",
      "web13 int64\n",
      "web14 int64\n",
      "web15 int64\n",
      "web16 int64\n",
      "web17 int64\n",
      "web18 int64\n",
      "dbroad int64\n",
      "intten int64\n",
      "netfq int64\n",
      "daily1 int64\n",
      "daily2 int64\n",
      "daily3 int64\n",
      "daily4 int64\n",
      "daily5 int64\n",
      "daily6 int64\n",
      "daily7 int64\n",
      "daily8 int64\n",
      "daily9 int64\n",
      "daily10 int64\n",
      "daily11 int64\n",
      "daily12 int64\n",
      "daily13 int64\n",
      "daily14 int64\n",
      "daily15 int64\n",
      "daily16 int64\n",
      "daily17 int64\n",
      "daily18 int64\n",
      "daily19 int64\n",
      "daily20 int64\n",
      "daily21 int64\n",
      "daily22 int64\n",
      "daily23 int64\n",
      "daily24 int64\n",
      "daily25 int64\n",
      "sunday1 int64\n",
      "sunday2 int64\n",
      "sunday3 int64\n",
      "sunday4 int64\n",
      "sunday5 int64\n",
      "sunday6 int64\n",
      "sunday7 int64\n",
      "sunday8 int64\n",
      "sunday9 int64\n",
      "sunday10 int64\n",
      "sunday11 int64\n",
      "sunday12 int64\n",
      "sunday13 int64\n",
      "sunday14 int64\n",
      "sunday15 int64\n",
      "sunday16 int64\n",
      "sunday17 int64\n",
      "sunday18 int64\n",
      "sunday19 int64\n",
      "sunday20 int64\n",
      "press1 int64\n",
      "press2 int64\n",
      "broadsheet1 int64\n",
      "broadsheet2 int64\n",
      "broadsheet3 int64\n",
      "popular1 int64\n",
      "popular2 int64\n",
      "popular3 int64\n",
      "popular4 int64\n",
      "popular5 int64\n",
      "sex int64\n",
      "age int64\n",
      "agegroups int64\n",
      "numage int64\n",
      "class int64\n",
      "sgrade int64\n",
      "work int64\n",
      "gor int64\n",
      "qual int64\n",
      "ethnic int64\n",
      "ethnicity int64\n",
      "party int64\n",
      "cie int64\n",
      "wrkcie int64\n",
      "income int64\n",
      "tenure int64\n",
      "tennet int64\n",
      "lstage int64\n",
      "maritl int64\n",
      "numhhd int64\n",
      "numkid int64\n",
      "numkid2 int64\n",
      "numkid31 int64\n",
      "numkid32 int64\n",
      "numkid33 int64\n",
      "numkid34 int64\n",
      "numkid35 int64\n",
      "numkid36 int64\n",
      "wts float64\n"
     ]
    }
   ],
   "source": [
    "for name, dtype in zip(df_SN7577.columns,df_SN7577.dtypes):\n",
    "    print (name, dtype)"
   ]
  },
  {
   "cell_type": "code",
   "execution_count": 40,
   "metadata": {},
   "outputs": [
    {
     "data": {
      "text/plain": [
       "3"
      ]
     },
     "execution_count": 40,
     "metadata": {},
     "output_type": "execute_result"
    }
   ],
   "source": [
    "len(name)"
   ]
  },
  {
   "cell_type": "markdown",
   "metadata": {},
   "source": [
    "## joins"
   ]
  },
  {
   "cell_type": "code",
   "execution_count": 45,
   "metadata": {},
   "outputs": [],
   "source": [
    "df_aa = pd.read_csv('data/SN7577i_aa.csv')\n",
    "df_bb = pd.read_csv('data/SN7577i_bb.csv')"
   ]
  },
  {
   "cell_type": "code",
   "execution_count": 46,
   "metadata": {},
   "outputs": [
    {
     "data": {
      "text/html": [
       "<div>\n",
       "<style scoped>\n",
       "    .dataframe tbody tr th:only-of-type {\n",
       "        vertical-align: middle;\n",
       "    }\n",
       "\n",
       "    .dataframe tbody tr th {\n",
       "        vertical-align: top;\n",
       "    }\n",
       "\n",
       "    .dataframe thead th {\n",
       "        text-align: right;\n",
       "    }\n",
       "</style>\n",
       "<table border=\"1\" class=\"dataframe\">\n",
       "  <thead>\n",
       "    <tr style=\"text-align: right;\">\n",
       "      <th></th>\n",
       "      <th>Id</th>\n",
       "      <th>Q1</th>\n",
       "      <th>Q2</th>\n",
       "      <th>Q3</th>\n",
       "    </tr>\n",
       "  </thead>\n",
       "  <tbody>\n",
       "    <tr>\n",
       "      <th>0</th>\n",
       "      <td>1</td>\n",
       "      <td>1</td>\n",
       "      <td>-1</td>\n",
       "      <td>1</td>\n",
       "    </tr>\n",
       "    <tr>\n",
       "      <th>1</th>\n",
       "      <td>2</td>\n",
       "      <td>3</td>\n",
       "      <td>-1</td>\n",
       "      <td>1</td>\n",
       "    </tr>\n",
       "    <tr>\n",
       "      <th>2</th>\n",
       "      <td>3</td>\n",
       "      <td>10</td>\n",
       "      <td>3</td>\n",
       "      <td>2</td>\n",
       "    </tr>\n",
       "    <tr>\n",
       "      <th>3</th>\n",
       "      <td>4</td>\n",
       "      <td>9</td>\n",
       "      <td>-1</td>\n",
       "      <td>10</td>\n",
       "    </tr>\n",
       "    <tr>\n",
       "      <th>4</th>\n",
       "      <td>5</td>\n",
       "      <td>10</td>\n",
       "      <td>2</td>\n",
       "      <td>6</td>\n",
       "    </tr>\n",
       "  </tbody>\n",
       "</table>\n",
       "</div>"
      ],
      "text/plain": [
       "   Id  Q1  Q2  Q3\n",
       "0   1   1  -1   1\n",
       "1   2   3  -1   1\n",
       "2   3  10   3   2\n",
       "3   4   9  -1  10\n",
       "4   5  10   2   6"
      ]
     },
     "execution_count": 46,
     "metadata": {},
     "output_type": "execute_result"
    }
   ],
   "source": [
    "df_aa.head()"
   ]
  },
  {
   "cell_type": "code",
   "execution_count": 47,
   "metadata": {},
   "outputs": [
    {
     "data": {
      "text/html": [
       "<div>\n",
       "<style scoped>\n",
       "    .dataframe tbody tr th:only-of-type {\n",
       "        vertical-align: middle;\n",
       "    }\n",
       "\n",
       "    .dataframe tbody tr th {\n",
       "        vertical-align: top;\n",
       "    }\n",
       "\n",
       "    .dataframe thead th {\n",
       "        text-align: right;\n",
       "    }\n",
       "</style>\n",
       "<table border=\"1\" class=\"dataframe\">\n",
       "  <thead>\n",
       "    <tr style=\"text-align: right;\">\n",
       "      <th></th>\n",
       "      <th>Id</th>\n",
       "      <th>Q1</th>\n",
       "      <th>Q2</th>\n",
       "      <th>Q4</th>\n",
       "    </tr>\n",
       "  </thead>\n",
       "  <tbody>\n",
       "    <tr>\n",
       "      <th>0</th>\n",
       "      <td>1277</td>\n",
       "      <td>10</td>\n",
       "      <td>10</td>\n",
       "      <td>6</td>\n",
       "    </tr>\n",
       "    <tr>\n",
       "      <th>1</th>\n",
       "      <td>1278</td>\n",
       "      <td>2</td>\n",
       "      <td>-1</td>\n",
       "      <td>4</td>\n",
       "    </tr>\n",
       "    <tr>\n",
       "      <th>2</th>\n",
       "      <td>1279</td>\n",
       "      <td>2</td>\n",
       "      <td>-1</td>\n",
       "      <td>5</td>\n",
       "    </tr>\n",
       "    <tr>\n",
       "      <th>3</th>\n",
       "      <td>1280</td>\n",
       "      <td>1</td>\n",
       "      <td>-1</td>\n",
       "      <td>3</td>\n",
       "    </tr>\n",
       "    <tr>\n",
       "      <th>4</th>\n",
       "      <td>1281</td>\n",
       "      <td>10</td>\n",
       "      <td>2</td>\n",
       "      <td>4</td>\n",
       "    </tr>\n",
       "  </tbody>\n",
       "</table>\n",
       "</div>"
      ],
      "text/plain": [
       "     Id  Q1  Q2  Q4\n",
       "0  1277  10  10   6\n",
       "1  1278   2  -1   4\n",
       "2  1279   2  -1   5\n",
       "3  1280   1  -1   3\n",
       "4  1281  10   2   4"
      ]
     },
     "execution_count": 47,
     "metadata": {},
     "output_type": "execute_result"
    }
   ],
   "source": [
    "df_bb.head()"
   ]
  },
  {
   "cell_type": "code",
   "execution_count": 51,
   "metadata": {},
   "outputs": [
    {
     "data": {
      "text/html": [
       "<div>\n",
       "<style scoped>\n",
       "    .dataframe tbody tr th:only-of-type {\n",
       "        vertical-align: middle;\n",
       "    }\n",
       "\n",
       "    .dataframe tbody tr th {\n",
       "        vertical-align: top;\n",
       "    }\n",
       "\n",
       "    .dataframe thead th {\n",
       "        text-align: right;\n",
       "    }\n",
       "</style>\n",
       "<table border=\"1\" class=\"dataframe\">\n",
       "  <thead>\n",
       "    <tr style=\"text-align: right;\">\n",
       "      <th></th>\n",
       "      <th>Id</th>\n",
       "      <th>Q1_x</th>\n",
       "      <th>Q2_x</th>\n",
       "      <th>Q3</th>\n",
       "      <th>Q1_y</th>\n",
       "      <th>Q2_y</th>\n",
       "      <th>Q4</th>\n",
       "    </tr>\n",
       "  </thead>\n",
       "  <tbody>\n",
       "    <tr>\n",
       "      <th>0</th>\n",
       "      <td>1</td>\n",
       "      <td>1.0</td>\n",
       "      <td>-1.0</td>\n",
       "      <td>1.0</td>\n",
       "      <td>NaN</td>\n",
       "      <td>NaN</td>\n",
       "      <td>NaN</td>\n",
       "    </tr>\n",
       "    <tr>\n",
       "      <th>1</th>\n",
       "      <td>2</td>\n",
       "      <td>3.0</td>\n",
       "      <td>-1.0</td>\n",
       "      <td>1.0</td>\n",
       "      <td>NaN</td>\n",
       "      <td>NaN</td>\n",
       "      <td>NaN</td>\n",
       "    </tr>\n",
       "    <tr>\n",
       "      <th>2</th>\n",
       "      <td>3</td>\n",
       "      <td>10.0</td>\n",
       "      <td>3.0</td>\n",
       "      <td>2.0</td>\n",
       "      <td>NaN</td>\n",
       "      <td>NaN</td>\n",
       "      <td>NaN</td>\n",
       "    </tr>\n",
       "    <tr>\n",
       "      <th>3</th>\n",
       "      <td>4</td>\n",
       "      <td>9.0</td>\n",
       "      <td>-1.0</td>\n",
       "      <td>10.0</td>\n",
       "      <td>NaN</td>\n",
       "      <td>NaN</td>\n",
       "      <td>NaN</td>\n",
       "    </tr>\n",
       "    <tr>\n",
       "      <th>4</th>\n",
       "      <td>5</td>\n",
       "      <td>10.0</td>\n",
       "      <td>2.0</td>\n",
       "      <td>6.0</td>\n",
       "      <td>NaN</td>\n",
       "      <td>NaN</td>\n",
       "      <td>NaN</td>\n",
       "    </tr>\n",
       "  </tbody>\n",
       "</table>\n",
       "</div>"
      ],
      "text/plain": [
       "   Id  Q1_x  Q2_x    Q3  Q1_y  Q2_y  Q4\n",
       "0   1   1.0  -1.0   1.0   NaN   NaN NaN\n",
       "1   2   3.0  -1.0   1.0   NaN   NaN NaN\n",
       "2   3  10.0   3.0   2.0   NaN   NaN NaN\n",
       "3   4   9.0  -1.0  10.0   NaN   NaN NaN\n",
       "4   5  10.0   2.0   6.0   NaN   NaN NaN"
      ]
     },
     "execution_count": 51,
     "metadata": {},
     "output_type": "execute_result"
    }
   ],
   "source": [
    "df_aa_bb = pd.merge(df_aa,df_bb,how='outer',on='Id')\n",
    "df_aa_bb.head()"
   ]
  },
  {
   "cell_type": "code",
   "execution_count": 53,
   "metadata": {},
   "outputs": [
    {
     "data": {
      "text/html": [
       "<div>\n",
       "<style scoped>\n",
       "    .dataframe tbody tr th:only-of-type {\n",
       "        vertical-align: middle;\n",
       "    }\n",
       "\n",
       "    .dataframe tbody tr th {\n",
       "        vertical-align: top;\n",
       "    }\n",
       "\n",
       "    .dataframe thead th {\n",
       "        text-align: right;\n",
       "    }\n",
       "</style>\n",
       "<table border=\"1\" class=\"dataframe\">\n",
       "  <thead>\n",
       "    <tr style=\"text-align: right;\">\n",
       "      <th></th>\n",
       "      <th>Id</th>\n",
       "      <th>Q1_aa</th>\n",
       "      <th>Q2_aa</th>\n",
       "      <th>Q3</th>\n",
       "      <th>Q1_bb</th>\n",
       "      <th>Q2_bb</th>\n",
       "      <th>Q4</th>\n",
       "      <th>_merge</th>\n",
       "    </tr>\n",
       "  </thead>\n",
       "  <tbody>\n",
       "    <tr>\n",
       "      <th>0</th>\n",
       "      <td>1</td>\n",
       "      <td>1.0</td>\n",
       "      <td>-1.0</td>\n",
       "      <td>1.0</td>\n",
       "      <td>NaN</td>\n",
       "      <td>NaN</td>\n",
       "      <td>NaN</td>\n",
       "      <td>left_only</td>\n",
       "    </tr>\n",
       "    <tr>\n",
       "      <th>1</th>\n",
       "      <td>2</td>\n",
       "      <td>3.0</td>\n",
       "      <td>-1.0</td>\n",
       "      <td>1.0</td>\n",
       "      <td>NaN</td>\n",
       "      <td>NaN</td>\n",
       "      <td>NaN</td>\n",
       "      <td>left_only</td>\n",
       "    </tr>\n",
       "    <tr>\n",
       "      <th>2</th>\n",
       "      <td>3</td>\n",
       "      <td>10.0</td>\n",
       "      <td>3.0</td>\n",
       "      <td>2.0</td>\n",
       "      <td>NaN</td>\n",
       "      <td>NaN</td>\n",
       "      <td>NaN</td>\n",
       "      <td>left_only</td>\n",
       "    </tr>\n",
       "    <tr>\n",
       "      <th>3</th>\n",
       "      <td>4</td>\n",
       "      <td>9.0</td>\n",
       "      <td>-1.0</td>\n",
       "      <td>10.0</td>\n",
       "      <td>NaN</td>\n",
       "      <td>NaN</td>\n",
       "      <td>NaN</td>\n",
       "      <td>left_only</td>\n",
       "    </tr>\n",
       "    <tr>\n",
       "      <th>4</th>\n",
       "      <td>5</td>\n",
       "      <td>10.0</td>\n",
       "      <td>2.0</td>\n",
       "      <td>6.0</td>\n",
       "      <td>NaN</td>\n",
       "      <td>NaN</td>\n",
       "      <td>NaN</td>\n",
       "      <td>left_only</td>\n",
       "    </tr>\n",
       "  </tbody>\n",
       "</table>\n",
       "</div>"
      ],
      "text/plain": [
       "   Id  Q1_aa  Q2_aa    Q3  Q1_bb  Q2_bb  Q4     _merge\n",
       "0   1    1.0   -1.0   1.0    NaN    NaN NaN  left_only\n",
       "1   2    3.0   -1.0   1.0    NaN    NaN NaN  left_only\n",
       "2   3   10.0    3.0   2.0    NaN    NaN NaN  left_only\n",
       "3   4    9.0   -1.0  10.0    NaN    NaN NaN  left_only\n",
       "4   5   10.0    2.0   6.0    NaN    NaN NaN  left_only"
      ]
     },
     "execution_count": 53,
     "metadata": {},
     "output_type": "execute_result"
    }
   ],
   "source": [
    "df_aa_bb = pd.merge(df_aa,df_bb,how='outer',on='Id',suffixes=('_aa', '_bb'), indicator = True)\n",
    "df_aa_bb.head()"
   ]
  },
  {
   "cell_type": "code",
   "execution_count": null,
   "metadata": {},
   "outputs": [],
   "source": []
  }
 ],
 "metadata": {
  "kernelspec": {
   "display_name": "Python 3",
   "language": "python",
   "name": "python3"
  },
  "language_info": {
   "codemirror_mode": {
    "name": "ipython",
    "version": 3
   },
   "file_extension": ".py",
   "mimetype": "text/x-python",
   "name": "python",
   "nbconvert_exporter": "python",
   "pygments_lexer": "ipython3",
   "version": "3.6.4"
  }
 },
 "nbformat": 4,
 "nbformat_minor": 2
}
